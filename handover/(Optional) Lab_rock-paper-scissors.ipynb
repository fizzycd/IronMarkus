{
 "cells": [
  {
   "cell_type": "markdown",
   "metadata": {},
   "source": [
    "<img src=\"https://bit.ly/2VnXWr2\" width=\"100\" align=\"left\">"
   ]
  },
  {
   "cell_type": "markdown",
   "metadata": {},
   "source": [
    "# Rock, Paper & Scissors\n",
    "\n",
    "Let's play the famous game against our computer. You can check the rules [here](https://en.wikipedia.org/wiki/Rock%E2%80%93paper%E2%80%93scissors). \n",
    "\n",
    "## Task\n",
    "Create a program that imitates the playability of the well known game of rock, paper, scissors. Follow the guidelines provided.\n",
    "\n",
    "## Tools\n",
    "1. Loop: **for/while**\n",
    "2. Functions: **input(), print()...**\n",
    "3. Conditional statements: **if, elif, else**\n",
    "4. Definition of functions. Modular programming\n",
    "5. Import modules\n",
    "\n",
    "- **To solve this challenge, the use of functions is recommended.**\n",
    "- <b>Hint: You dont need necessarily to follow the instructions in this notebook to solve the tasks. simply just get the job done effeciently ;) \n",
    "\n",
    "#### 1. Import the choice function of the random module."
   ]
  },
  {
   "cell_type": "code",
   "execution_count": 1,
   "metadata": {},
   "outputs": [],
   "source": [
    "import random "
   ]
  },
  {
   "cell_type": "markdown",
   "metadata": {},
   "source": [
    "#### 2. Create a list that includes the 3 possible gesture options of the game: 'rock', 'paper' or 'scissors'. Store the list in a variable called `gestures`."
   ]
  },
  {
   "cell_type": "code",
   "execution_count": 2,
   "metadata": {},
   "outputs": [],
   "source": [
    "gestures = ['rock','paper','scissors']"
   ]
  },
  {
   "cell_type": "markdown",
   "metadata": {},
   "source": [
    "#### 3. Create a variable called `n_rounds` to store the maximum number of rounds to play in a game. \n",
    "Remember that the number of rounds must be odd: 1, 3, 5, ..."
   ]
  },
  {
   "cell_type": "code",
   "execution_count": 3,
   "metadata": {},
   "outputs": [],
   "source": [
    "# wins = userinput\n",
    "def n_rounds():\n",
    "    troll_counter = 0\n",
    "    print(\"\"\"How many rounds do you want to play? Put in an odd number so it doesn't end up in a tie :)\"\"\")\n",
    "    amount = int(input())\n",
    "    while True:\n",
    "        if amount % 2 == 1:\n",
    "            return amount\n",
    "            break\n",
    "        else:\n",
    "            if troll_counter > 1:\n",
    "                print('Please stop trolling and put in a valid choice :)')\n",
    "                amount = int(input())\n",
    "                troll_counter += 1\n",
    "            else:\n",
    "                print('Try again. Please put in an odd number')\n",
    "                amount = int(input())\n",
    "                troll_counter += 1\n",
    "#n_rounds = (1 + (2 * (int(wins)-1)))\n",
    "#print('The maximum number of rounds to play is ' + str(n_rounds) + ' rounds.')"
   ]
  },
  {
   "cell_type": "markdown",
   "metadata": {},
   "source": [
    "#### 4. Create a variable called `rounds_to_win` to store the number of rounds that a player must win to win the game.\n",
    "**Hint**: the value stored in `rounds_to_win` depends on the value of `n_rounds`. "
   ]
  },
  {
   "cell_type": "code",
   "execution_count": 4,
   "metadata": {},
   "outputs": [],
   "source": [
    "#rounds_to_win = int(max_rounds) / 2) + 0.5"
   ]
  },
  {
   "cell_type": "markdown",
   "metadata": {},
   "source": [
    "#### 5. Create two variables to store the number of rounds that the computer and the player have won. Call these variables `cpu_score` and `player_score`."
   ]
  },
  {
   "cell_type": "code",
   "execution_count": 5,
   "metadata": {},
   "outputs": [],
   "source": [
    "cpu_score = 0\n",
    "player_score = 0\n"
   ]
  },
  {
   "cell_type": "markdown",
   "metadata": {},
   "source": [
    "#### 6. Define a function that randomly returns one of the 3 gesture options.\n",
    "You will use this function to simulate the gesture choice of the computer. "
   ]
  },
  {
   "cell_type": "code",
   "execution_count": 6,
   "metadata": {},
   "outputs": [],
   "source": [
    "def cpu_weapon():\n",
    "    cpu_choice = random.choice(gestures)\n",
    "    return cpu_choice"
   ]
  },
  {
   "cell_type": "code",
   "execution_count": 7,
   "metadata": {},
   "outputs": [
    {
     "data": {
      "text/plain": [
       "'paper'"
      ]
     },
     "execution_count": 7,
     "metadata": {},
     "output_type": "execute_result"
    }
   ],
   "source": [
    "cpu_weapon()"
   ]
  },
  {
   "cell_type": "markdown",
   "metadata": {},
   "source": [
    "#### 7. Define a function that asks the player which is the gesture he or she wants to show: 'rock', 'paper' or 'scissors'.\n",
    "The player should only be allowed to choose one of the 3 gesture options. If the player's choice is not rock, paper or scissors, keep asking until it is."
   ]
  },
  {
   "cell_type": "code",
   "execution_count": 8,
   "metadata": {},
   "outputs": [],
   "source": [
    "def player_weapon():\n",
    "    print('Choose your weapon: rock, paper or scissors?')\n",
    "    choice = str(input())\n",
    "    troll_counter = 0\n",
    "    while True:\n",
    "        if choice in gestures:\n",
    "            return choice\n",
    "            break\n",
    "        else:\n",
    "            if troll_counter > 1:\n",
    "                print('Please stop trolling and put in a valid choice :)')\n",
    "                choice = str(input())\n",
    "                troll_counter += 1\n",
    "            else:\n",
    "                print('Your Choice was invalid. Please choose either rock, paper or scissors (beware of case sensitivity).')\n",
    "                choice = str(input())\n",
    "                troll_counter += 1"
   ]
  },
  {
   "cell_type": "markdown",
   "metadata": {},
   "source": [
    "#### 8. Define a function that checks who won a round. \n",
    "The function should return 0 if there is a tie, 1 if the computer wins and 2 if the player wins."
   ]
  },
  {
   "cell_type": "code",
   "execution_count": 9,
   "metadata": {},
   "outputs": [
    {
     "name": "stdout",
     "output_type": "stream",
     "text": [
      "Choose your weapon: rock, paper or scissors?\n",
      "rock\n"
     ]
    }
   ],
   "source": [
    "def winner_round():\n",
    "    tie = 0\n",
    "    cpu = 1\n",
    "    player = 2\n",
    "    pw = player_weapon()\n",
    "    cw = cpu_weapon()\n",
    "    if pw == 'rock' and cw == 'scissors':\n",
    "        winner = player\n",
    "    elif pw == 'rock' and cw == 'paper':\n",
    "        winner = cpu\n",
    "    elif pw == 'paper' and cw == 'scissors':\n",
    "        winner = cpu\n",
    "    elif pw == 'paper' and cw == 'rock':\n",
    "        winner = player\n",
    "    elif pw == cw:\n",
    "        winner = tie\n",
    "    elif pw == 'scissors' and cw == 'rock':\n",
    "        winner = cpu\n",
    "    elif pw == 'scissors' and cw == 'paper':\n",
    "        winner = player\n",
    "    return winner,pw,cw\n",
    "x,pw,cw = winner_round()"
   ]
  },
  {
   "cell_type": "markdown",
   "metadata": {},
   "source": [
    "#### 9. Define a function that prints the choice of the computer, the choice of the player and a message that announces who won the current round. \n",
    "You should also use this function to update the variables that count the number of rounds that the computer and the player have won. The score of the winner increases by one point. If there is a tie, the score does not increase."
   ]
  },
  {
   "cell_type": "code",
   "execution_count": 10,
   "metadata": {},
   "outputs": [],
   "source": [
    "def announce(cpu_score,player_score):\n",
    "    x,pw,cw = winner_round()\n",
    "    print('The player has chosen: '+ str(pw))\n",
    "    print('The computer has chosen: '+ str(cw))\n",
    "    if x == 1:\n",
    "        print('The computer won! Better luck next time')\n",
    "        cpu_score +=1\n",
    "        return player_score,cpu_score\n",
    "    elif x == 2:\n",
    "        print('You won!')\n",
    "        player_score +=1\n",
    "        return player_score,cpu_score\n",
    "    else:\n",
    "        print('It is a tie! go again')\n",
    "        print('------------------------------')\n",
    "        return 3\n"
   ]
  },
  {
   "cell_type": "markdown",
   "metadata": {},
   "source": [
    "#### 10. Now it's time to code the execution of the game using the functions and variables you defined above. \n",
    "\n",
    "First, create a loop structure that repeats while no player reaches the minimum score necessary to win and the number of rounds is less than the maximum number of rounds to play in a game.  \n",
    "\n",
    "Inside the loop, use the functions and variables above to create the execution of a round: ask for the player's choice, generate the random choice of the computer, show the round results, update the scores, etc. "
   ]
  },
  {
   "cell_type": "code",
   "execution_count": 16,
   "metadata": {},
   "outputs": [
    {
     "name": "stdout",
     "output_type": "stream",
     "text": [
      "How many rounds do you want to play? Put in an odd number so it doesn't end up in a tie :)\n",
      "9\n",
      "round: 1\n",
      "Whoever wins 5 games first wins the game! Good Luck!\n",
      "Choose your weapon: rock, paper or scissors?\n"
     ]
    },
    {
     "ename": "KeyboardInterrupt",
     "evalue": "Interrupted by user",
     "output_type": "error",
     "traceback": [
      "\u001b[1;31m---------------------------------------------------------------------------\u001b[0m",
      "\u001b[1;31mKeyboardInterrupt\u001b[0m                         Traceback (most recent call last)",
      "\u001b[1;32m~\\AppData\\Local\\Temp\\ipykernel_14836\\1542307342.py\u001b[0m in \u001b[0;36m<module>\u001b[1;34m\u001b[0m\n\u001b[0;32m     11\u001b[0m     \u001b[1;32mif\u001b[0m \u001b[0mround_count\u001b[0m \u001b[1;33m==\u001b[0m \u001b[1;36m1\u001b[0m\u001b[1;33m:\u001b[0m\u001b[1;33m\u001b[0m\u001b[1;33m\u001b[0m\u001b[0m\n\u001b[0;32m     12\u001b[0m         \u001b[0mprint\u001b[0m\u001b[1;33m(\u001b[0m\u001b[1;34m'Whoever wins '\u001b[0m \u001b[1;33m+\u001b[0m \u001b[0mstr\u001b[0m\u001b[1;33m(\u001b[0m\u001b[0mrounds_to_win\u001b[0m\u001b[1;33m)\u001b[0m \u001b[1;33m+\u001b[0m \u001b[1;34m' games first wins the game! Good Luck!'\u001b[0m\u001b[1;33m)\u001b[0m\u001b[1;33m\u001b[0m\u001b[1;33m\u001b[0m\u001b[0m\n\u001b[1;32m---> 13\u001b[1;33m     \u001b[0mcheck\u001b[0m \u001b[1;33m=\u001b[0m \u001b[0mannounce\u001b[0m\u001b[1;33m(\u001b[0m\u001b[0mplayer_score\u001b[0m\u001b[1;33m,\u001b[0m\u001b[0mcpu_score\u001b[0m\u001b[1;33m)\u001b[0m\u001b[1;33m\u001b[0m\u001b[1;33m\u001b[0m\u001b[0m\n\u001b[0m\u001b[0;32m     14\u001b[0m     \u001b[1;32mif\u001b[0m \u001b[0mcheck\u001b[0m \u001b[1;33m==\u001b[0m \u001b[1;33m(\u001b[0m\u001b[1;36m1\u001b[0m\u001b[1;33m,\u001b[0m\u001b[1;36m0\u001b[0m\u001b[1;33m)\u001b[0m\u001b[1;33m:\u001b[0m\u001b[1;33m\u001b[0m\u001b[1;33m\u001b[0m\u001b[0m\n\u001b[0;32m     15\u001b[0m         \u001b[0mbucket1\u001b[0m \u001b[1;33m+=\u001b[0m \u001b[1;36m1\u001b[0m\u001b[1;33m\u001b[0m\u001b[1;33m\u001b[0m\u001b[0m\n",
      "\u001b[1;32m~\\AppData\\Local\\Temp\\ipykernel_14836\\2238886391.py\u001b[0m in \u001b[0;36mannounce\u001b[1;34m(cpu_score, player_score)\u001b[0m\n\u001b[0;32m      1\u001b[0m \u001b[1;32mdef\u001b[0m \u001b[0mannounce\u001b[0m\u001b[1;33m(\u001b[0m\u001b[0mcpu_score\u001b[0m\u001b[1;33m,\u001b[0m\u001b[0mplayer_score\u001b[0m\u001b[1;33m)\u001b[0m\u001b[1;33m:\u001b[0m\u001b[1;33m\u001b[0m\u001b[1;33m\u001b[0m\u001b[0m\n\u001b[1;32m----> 2\u001b[1;33m     \u001b[0mx\u001b[0m\u001b[1;33m,\u001b[0m\u001b[0mpw\u001b[0m\u001b[1;33m,\u001b[0m\u001b[0mcw\u001b[0m \u001b[1;33m=\u001b[0m \u001b[0mwinner_round\u001b[0m\u001b[1;33m(\u001b[0m\u001b[1;33m)\u001b[0m\u001b[1;33m\u001b[0m\u001b[1;33m\u001b[0m\u001b[0m\n\u001b[0m\u001b[0;32m      3\u001b[0m     \u001b[0mprint\u001b[0m\u001b[1;33m(\u001b[0m\u001b[1;34m'The player has chosen: '\u001b[0m\u001b[1;33m+\u001b[0m \u001b[0mstr\u001b[0m\u001b[1;33m(\u001b[0m\u001b[0mpw\u001b[0m\u001b[1;33m)\u001b[0m\u001b[1;33m)\u001b[0m\u001b[1;33m\u001b[0m\u001b[1;33m\u001b[0m\u001b[0m\n\u001b[0;32m      4\u001b[0m     \u001b[0mprint\u001b[0m\u001b[1;33m(\u001b[0m\u001b[1;34m'The computer has chosen: '\u001b[0m\u001b[1;33m+\u001b[0m \u001b[0mstr\u001b[0m\u001b[1;33m(\u001b[0m\u001b[0mcw\u001b[0m\u001b[1;33m)\u001b[0m\u001b[1;33m)\u001b[0m\u001b[1;33m\u001b[0m\u001b[1;33m\u001b[0m\u001b[0m\n\u001b[0;32m      5\u001b[0m     \u001b[1;32mif\u001b[0m \u001b[0mx\u001b[0m \u001b[1;33m==\u001b[0m \u001b[1;36m1\u001b[0m\u001b[1;33m:\u001b[0m\u001b[1;33m\u001b[0m\u001b[1;33m\u001b[0m\u001b[0m\n",
      "\u001b[1;32m~\\AppData\\Local\\Temp\\ipykernel_14836\\3195407465.py\u001b[0m in \u001b[0;36mwinner_round\u001b[1;34m()\u001b[0m\n\u001b[0;32m      3\u001b[0m     \u001b[0mcpu\u001b[0m \u001b[1;33m=\u001b[0m \u001b[1;36m1\u001b[0m\u001b[1;33m\u001b[0m\u001b[1;33m\u001b[0m\u001b[0m\n\u001b[0;32m      4\u001b[0m     \u001b[0mplayer\u001b[0m \u001b[1;33m=\u001b[0m \u001b[1;36m2\u001b[0m\u001b[1;33m\u001b[0m\u001b[1;33m\u001b[0m\u001b[0m\n\u001b[1;32m----> 5\u001b[1;33m     \u001b[0mpw\u001b[0m \u001b[1;33m=\u001b[0m \u001b[0mplayer_weapon\u001b[0m\u001b[1;33m(\u001b[0m\u001b[1;33m)\u001b[0m\u001b[1;33m\u001b[0m\u001b[1;33m\u001b[0m\u001b[0m\n\u001b[0m\u001b[0;32m      6\u001b[0m     \u001b[0mcw\u001b[0m \u001b[1;33m=\u001b[0m \u001b[0mcpu_weapon\u001b[0m\u001b[1;33m(\u001b[0m\u001b[1;33m)\u001b[0m\u001b[1;33m\u001b[0m\u001b[1;33m\u001b[0m\u001b[0m\n\u001b[0;32m      7\u001b[0m     \u001b[1;32mif\u001b[0m \u001b[0mpw\u001b[0m \u001b[1;33m==\u001b[0m \u001b[1;34m'rock'\u001b[0m \u001b[1;32mand\u001b[0m \u001b[0mcw\u001b[0m \u001b[1;33m==\u001b[0m \u001b[1;34m'scissors'\u001b[0m\u001b[1;33m:\u001b[0m\u001b[1;33m\u001b[0m\u001b[1;33m\u001b[0m\u001b[0m\n",
      "\u001b[1;32m~\\AppData\\Local\\Temp\\ipykernel_14836\\3407678902.py\u001b[0m in \u001b[0;36mplayer_weapon\u001b[1;34m()\u001b[0m\n\u001b[0;32m      1\u001b[0m \u001b[1;32mdef\u001b[0m \u001b[0mplayer_weapon\u001b[0m\u001b[1;33m(\u001b[0m\u001b[1;33m)\u001b[0m\u001b[1;33m:\u001b[0m\u001b[1;33m\u001b[0m\u001b[1;33m\u001b[0m\u001b[0m\n\u001b[0;32m      2\u001b[0m     \u001b[0mprint\u001b[0m\u001b[1;33m(\u001b[0m\u001b[1;34m'Choose your weapon: rock, paper or scissors?'\u001b[0m\u001b[1;33m)\u001b[0m\u001b[1;33m\u001b[0m\u001b[1;33m\u001b[0m\u001b[0m\n\u001b[1;32m----> 3\u001b[1;33m     \u001b[0mchoice\u001b[0m \u001b[1;33m=\u001b[0m \u001b[0mstr\u001b[0m\u001b[1;33m(\u001b[0m\u001b[0minput\u001b[0m\u001b[1;33m(\u001b[0m\u001b[1;33m)\u001b[0m\u001b[1;33m)\u001b[0m\u001b[1;33m\u001b[0m\u001b[1;33m\u001b[0m\u001b[0m\n\u001b[0m\u001b[0;32m      4\u001b[0m     \u001b[0mtroll_counter\u001b[0m \u001b[1;33m=\u001b[0m \u001b[1;36m0\u001b[0m\u001b[1;33m\u001b[0m\u001b[1;33m\u001b[0m\u001b[0m\n\u001b[0;32m      5\u001b[0m     \u001b[1;32mwhile\u001b[0m \u001b[1;32mTrue\u001b[0m\u001b[1;33m:\u001b[0m\u001b[1;33m\u001b[0m\u001b[1;33m\u001b[0m\u001b[0m\n",
      "\u001b[1;32m~\\anaconda3\\lib\\site-packages\\ipykernel\\kernelbase.py\u001b[0m in \u001b[0;36mraw_input\u001b[1;34m(self, prompt)\u001b[0m\n\u001b[0;32m   1175\u001b[0m                 \u001b[1;34m\"raw_input was called, but this frontend does not support input requests.\"\u001b[0m\u001b[1;33m\u001b[0m\u001b[1;33m\u001b[0m\u001b[0m\n\u001b[0;32m   1176\u001b[0m             )\n\u001b[1;32m-> 1177\u001b[1;33m         return self._input_request(\n\u001b[0m\u001b[0;32m   1178\u001b[0m             \u001b[0mstr\u001b[0m\u001b[1;33m(\u001b[0m\u001b[0mprompt\u001b[0m\u001b[1;33m)\u001b[0m\u001b[1;33m,\u001b[0m\u001b[1;33m\u001b[0m\u001b[1;33m\u001b[0m\u001b[0m\n\u001b[0;32m   1179\u001b[0m             \u001b[0mself\u001b[0m\u001b[1;33m.\u001b[0m\u001b[0m_parent_ident\u001b[0m\u001b[1;33m[\u001b[0m\u001b[1;34m\"shell\"\u001b[0m\u001b[1;33m]\u001b[0m\u001b[1;33m,\u001b[0m\u001b[1;33m\u001b[0m\u001b[1;33m\u001b[0m\u001b[0m\n",
      "\u001b[1;32m~\\anaconda3\\lib\\site-packages\\ipykernel\\kernelbase.py\u001b[0m in \u001b[0;36m_input_request\u001b[1;34m(self, prompt, ident, parent, password)\u001b[0m\n\u001b[0;32m   1217\u001b[0m             \u001b[1;32mexcept\u001b[0m \u001b[0mKeyboardInterrupt\u001b[0m\u001b[1;33m:\u001b[0m\u001b[1;33m\u001b[0m\u001b[1;33m\u001b[0m\u001b[0m\n\u001b[0;32m   1218\u001b[0m                 \u001b[1;31m# re-raise KeyboardInterrupt, to truncate traceback\u001b[0m\u001b[1;33m\u001b[0m\u001b[1;33m\u001b[0m\u001b[0m\n\u001b[1;32m-> 1219\u001b[1;33m                 \u001b[1;32mraise\u001b[0m \u001b[0mKeyboardInterrupt\u001b[0m\u001b[1;33m(\u001b[0m\u001b[1;34m\"Interrupted by user\"\u001b[0m\u001b[1;33m)\u001b[0m \u001b[1;32mfrom\u001b[0m \u001b[1;32mNone\u001b[0m\u001b[1;33m\u001b[0m\u001b[1;33m\u001b[0m\u001b[0m\n\u001b[0m\u001b[0;32m   1220\u001b[0m             \u001b[1;32mexcept\u001b[0m \u001b[0mException\u001b[0m\u001b[1;33m:\u001b[0m\u001b[1;33m\u001b[0m\u001b[1;33m\u001b[0m\u001b[0m\n\u001b[0;32m   1221\u001b[0m                 \u001b[0mself\u001b[0m\u001b[1;33m.\u001b[0m\u001b[0mlog\u001b[0m\u001b[1;33m.\u001b[0m\u001b[0mwarning\u001b[0m\u001b[1;33m(\u001b[0m\u001b[1;34m\"Invalid Message:\"\u001b[0m\u001b[1;33m,\u001b[0m \u001b[0mexc_info\u001b[0m\u001b[1;33m=\u001b[0m\u001b[1;32mTrue\u001b[0m\u001b[1;33m)\u001b[0m\u001b[1;33m\u001b[0m\u001b[1;33m\u001b[0m\u001b[0m\n",
      "\u001b[1;31mKeyboardInterrupt\u001b[0m: Interrupted by user"
     ]
    }
   ],
   "source": [
    "round_count = 1\n",
    "win_count = 0\n",
    "cpu_score = 0\n",
    "player_score = 0\n",
    "max_rounds = n_rounds()\n",
    "rounds_to_win = int(int(max_rounds) / 2 + 0.5)\n",
    "bucket1 = 0\n",
    "bucket2 = 0\n",
    "while bucket1 < rounds_to_win and bucket2 < rounds_to_win:\n",
    "    print('round: ' + str(round_count))\n",
    "    if round_count == 1:\n",
    "        print('Whoever wins ' + str(rounds_to_win) + ' games first wins the game! Good Luck!')\n",
    "    check = announce(player_score,cpu_score)\n",
    "    if check == (1,0):\n",
    "        bucket1 += 1\n",
    "        print('Current score: Player ' + str(bucket1) + ' wins / CPU ' + str(bucket2) + ' wins.')\n",
    "        print('------------------------------')\n",
    "    elif check == (0,1):\n",
    "        bucket2 += 1\n",
    "        print('Current score: Player ' + str(bucket1) + ' wins / CPU ' + str(bucket2) + ' wins.')\n",
    "        print('------------------------------')\n",
    "    if check != 3:\n",
    "        round_count += 1\n",
    "if bucket1 > bucket2:\n",
    "    print('The Winner is: Player ! Congratulations !')\n",
    "else:\n",
    "    print('The Winner is: Computer! Better luck next time...')"
   ]
  },
  {
   "cell_type": "markdown",
   "metadata": {},
   "source": [
    "#### 11. Print the winner of the game based on who won more rounds.\n",
    "Remember that the game might be tied. "
   ]
  },
  {
   "cell_type": "code",
   "execution_count": null,
   "metadata": {},
   "outputs": [],
   "source": []
  },
  {
   "cell_type": "markdown",
   "metadata": {},
   "source": [
    "# (Optional) Rock, Paper, Scissors, Lizard & Spock\n",
    "![](images/rpsls.jpg)\n",
    "\n",
    "In this challenge, you need to improve the previous game by adding two new options. To know more about the rules of the improved version of rock, paper, scissors, check this [link](http://www.samkass.com/theories/RPSSL.html). \n",
    "\n",
    "In addition, you will also need to improve how the game interacts with the player: the number of rounds to play, which must be an odd number, will be requested to the user until a valid number is entered. Define a new function to make that request.\n",
    "\n",
    "**Hint**: Try to reuse the code that you already coded in the previous challenge. If your code is efficient, this bonus will only consist of simple modifications to the original game."
   ]
  },
  {
   "cell_type": "raw",
   "metadata": {},
   "source": []
  }
 ],
 "metadata": {
  "kernelspec": {
   "display_name": "Python 3 (ipykernel)",
   "language": "python",
   "name": "python3"
  },
  "language_info": {
   "codemirror_mode": {
    "name": "ipython",
    "version": 3
   },
   "file_extension": ".py",
   "mimetype": "text/x-python",
   "name": "python",
   "nbconvert_exporter": "python",
   "pygments_lexer": "ipython3",
   "version": "3.9.13"
  },
  "toc": {
   "base_numbering": 1,
   "nav_menu": {},
   "number_sections": true,
   "sideBar": true,
   "skip_h1_title": false,
   "title_cell": "Table of Contents",
   "title_sidebar": "Contents",
   "toc_cell": false,
   "toc_position": {},
   "toc_section_display": true,
   "toc_window_display": false
  }
 },
 "nbformat": 4,
 "nbformat_minor": 2
}
